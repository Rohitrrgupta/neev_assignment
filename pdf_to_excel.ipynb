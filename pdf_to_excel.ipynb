{
 "cells": [
  {
   "cell_type": "code",
   "execution_count": 1,
   "id": "7dce59a2",
   "metadata": {},
   "outputs": [],
   "source": [
    "# getting pdf location\n",
    "#pdf_file = r'C:\\Users\\rohit\\Python\\neev_assignment\\EROLLGEN-S20-62-FinalRoll-Revision1-HIN-1-WI.pdf'"
   ]
  },
  {
   "cell_type": "code",
   "execution_count": 2,
   "id": "594dbe59",
   "metadata": {},
   "outputs": [],
   "source": [
    "# converting pages to images\n",
    "#from pdf2image import convert_from_path\n",
    "#images = convert_from_path(pdf_file, poppler_path = r'C:\\Program Files\\poppler-23.08.0\\Library\\bin')"
   ]
  },
  {
   "cell_type": "code",
   "execution_count": 3,
   "id": "56c0cca6",
   "metadata": {},
   "outputs": [],
   "source": [
    "# saving images externally\n",
    "#for i, image in enumerate(images):\n",
    "#    image.save(f'page_{i + 1}.jpg', 'JPEG')"
   ]
  },
  {
   "cell_type": "code",
   "execution_count": 4,
   "id": "bb51520b",
   "metadata": {},
   "outputs": [],
   "source": [
    "# importing image reader\n",
    "from PIL import Image\n",
    "import pytesseract\n",
    "pytesseract.pytesseract.tesseract_cmd = r'C:\\Program Files\\Tesseract-OCR\\tesseract.exe'"
   ]
  },
  {
   "cell_type": "code",
   "execution_count": 5,
   "id": "c4e3f756",
   "metadata": {},
   "outputs": [],
   "source": [
    "# getting texts from images (only from page number 2 - 7)\n",
    "texts = [pytesseract.image_to_string(Image.open(f'page_{i}.jpg'), lang = 'hin') for i in range(2, 8)]"
   ]
  },
  {
   "cell_type": "code",
   "execution_count": 6,
   "id": "d2f4ac38",
   "metadata": {},
   "outputs": [],
   "source": [
    "# processing text\n",
    "texts = [text.split('\\n\\n') for text in texts]"
   ]
  },
  {
   "cell_type": "code",
   "execution_count": 7,
   "id": "4855ecf2",
   "metadata": {
    "scrolled": false
   },
   "outputs": [],
   "source": [
    "texts = [[text.split('\\n') for text in subset] for subset in texts]"
   ]
  },
  {
   "cell_type": "code",
   "execution_count": 8,
   "id": "38510dc5",
   "metadata": {},
   "outputs": [],
   "source": [
    "# getting dataframe from texts\n",
    "import pandas as pd\n",
    "\n",
    "flattened_text = [row for table in texts for row in table]\n",
    "df = pd.DataFrame(flattened_text)"
   ]
  },
  {
   "cell_type": "code",
   "execution_count": 9,
   "id": "ae1229c0",
   "metadata": {},
   "outputs": [],
   "source": [
    "# saving dataframe as external file\n",
    "excel_file_path = \"output.xlsx\"\n",
    "\n",
    "df.to_excel(excel_file_path, index=False, header=False)"
   ]
  },
  {
   "cell_type": "code",
   "execution_count": null,
   "id": "2255232e",
   "metadata": {},
   "outputs": [],
   "source": []
  }
 ],
 "metadata": {
  "kernelspec": {
   "display_name": "Python 3 (ipykernel)",
   "language": "python",
   "name": "python3"
  },
  "language_info": {
   "codemirror_mode": {
    "name": "ipython",
    "version": 3
   },
   "file_extension": ".py",
   "mimetype": "text/x-python",
   "name": "python",
   "nbconvert_exporter": "python",
   "pygments_lexer": "ipython3",
   "version": "3.9.12"
  }
 },
 "nbformat": 4,
 "nbformat_minor": 5
}
